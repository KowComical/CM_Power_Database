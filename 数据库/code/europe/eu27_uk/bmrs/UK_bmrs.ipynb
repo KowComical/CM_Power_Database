{
 "cells": [
  {
   "cell_type": "code",
   "execution_count": 1,
   "id": "a7828481",
   "metadata": {},
   "outputs": [
    {
     "name": "stderr",
     "output_type": "stream",
     "text": [
      "100%|████████████████████████████████████████████████████████████████████████████| 1536/1536 [1:14:09<00:00,  2.90s/it]\n"
     ]
    }
   ],
   "source": [
    "#!/usr/bin/env python\n",
    "# -*- coding: utf-8 -*-\n",
    "# @Time    : 2021/9/23 00:19\n",
    "# @Author  : Zhu Deng\n",
    "# @Site    : https://github.com/zhudeng94\n",
    "# @File    : UK_BMRE.py\n",
    "# @Software: PyCharm\n",
    "\n",
    "import requests\n",
    "import pandas as pd\n",
    "from datetime import datetime\n",
    "import json\n",
    "from tqdm import tqdm\n",
    "import os\n",
    "\n",
    "\n",
    "parameter = {\n",
    "    \"flowid\": \"gbfthistoric\",\n",
    "    \"start_date\": \"\",\n",
    "    \"end_date\": \"\"\n",
    "}\n",
    "base_url = 'https://www.bmreports.com/bmrs/?q=tabledemand&parameter='\n",
    "\n",
    "path = 'K:\\\\Github\\\\GlobalPowerUpdate-Kow\\\\数据库\\\\data\\\\europe\\\\eu27_uk\\\\raw\\\\uk-BMRS\\\\'\n",
    "if not os.path.exists(path):\n",
    "    os.mkdir(path)\n",
    "\n",
    "flag = 1\n",
    "output_file = os.path.join(path, 'UK_BMRS_Hourly_1.csv')\n",
    "if os.path.exists(output_file):\n",
    "    df = pd.read_csv(output_file, index_col=1)\n",
    "    start_date = df.index.max()\n",
    "    flag = 0\n",
    "else:\n",
    "    start_date = '2018-01-01'\n",
    "end_date = datetime.strftime(datetime.now(), '%Y-%m-%d')\n",
    "date_range = pd.date_range(start_date, end_date)\n",
    "\n",
    "\n",
    "def main():\n",
    "    global flag\n",
    "    for d in tqdm(range(len(date_range) - 1)):\n",
    "        parameter['start_date'] = datetime.strftime(date_range[d], '%Y-%m-%d')\n",
    "        parameter['end_date'] = datetime.strftime(date_range[d + 1], '%Y-%m-%d')\n",
    "\n",
    "        url = base_url + str(parameter).replace('\\'', '\\\"')\n",
    "        res = requests.get(url)\n",
    "        js = json.loads(res.text)['responseBody']['responseList']['item']\n",
    "        df = pd.DataFrame(js)\n",
    "        if flag:\n",
    "            df.to_csv(output_file, index=False)\n",
    "            flag = 0\n",
    "        else:\n",
    "            df.to_csv(output_file, index=False, header=False, mode='a')\n",
    "\n",
    "if __name__ == '__main__':\n",
    "    main()"
   ]
  }
 ],
 "metadata": {
  "kernelspec": {
   "display_name": "Python 3 (ipykernel)",
   "language": "python",
   "name": "python3"
  },
  "language_info": {
   "codemirror_mode": {
    "name": "ipython",
    "version": 3
   },
   "file_extension": ".py",
   "mimetype": "text/x-python",
   "name": "python",
   "nbconvert_exporter": "python",
   "pygments_lexer": "ipython3",
   "version": "3.8.12"
  }
 },
 "nbformat": 4,
 "nbformat_minor": 5
}
