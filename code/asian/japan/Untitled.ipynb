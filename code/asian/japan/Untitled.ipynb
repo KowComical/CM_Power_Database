{
 "cells": [
  {
   "cell_type": "code",
   "execution_count": 8,
   "id": "20586233",
   "metadata": {
    "scrolled": true
   },
   "outputs": [],
   "source": [
    "import os\n",
    "def japan_path(directory):\n",
    "    # directory = '0_okiden'\n",
    "    # 输入路径\n",
    "    in_path = '../../../data/asia/japan/craw/%s' % directory\n",
    "    if not os.path.exists(in_path):\n",
    "        os.mkdir(in_path)\n",
    "        \n",
    "    # 输出路径\n",
    "    out_path = '../../../data/asia/japan/raw/company/'\n",
    "    if not os.path.exists(out_path):\n",
    "        os.mkdir(out_path)\n",
    "    return in_path,out_path"
   ]
  },
  {
   "cell_type": "code",
   "execution_count": 10,
   "id": "69f824b9",
   "metadata": {},
   "outputs": [],
   "source": [
    "in_path = japan_path('0_okiden')"
   ]
  },
  {
   "cell_type": "code",
   "execution_count": 17,
   "id": "6ffe4877",
   "metadata": {},
   "outputs": [
    {
     "data": {
      "text/plain": [
       "2023"
      ]
     },
     "execution_count": 17,
     "metadata": {},
     "output_type": "execute_result"
    }
   ],
   "source": [
    "2019 | 2021"
   ]
  }
 ],
 "metadata": {
  "kernelspec": {
   "display_name": "Python 3 (ipykernel)",
   "language": "python",
   "name": "python3"
  },
  "language_info": {
   "codemirror_mode": {
    "name": "ipython",
    "version": 3
   },
   "file_extension": ".py",
   "mimetype": "text/x-python",
   "name": "python",
   "nbconvert_exporter": "python",
   "pygments_lexer": "ipython3",
   "version": "3.8.12"
  }
 },
 "nbformat": 4,
 "nbformat_minor": 5
}
